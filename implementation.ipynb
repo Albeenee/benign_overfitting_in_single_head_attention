{
 "cells": [
  {
   "cell_type": "markdown",
   "metadata": {},
   "source": [
    "# Benign Overfitting in Single-Head Attention"
   ]
  },
  {
   "cell_type": "markdown",
   "metadata": {},
   "source": [
    "## Data generation"
   ]
  },
  {
   "cell_type": "code",
   "execution_count": 1,
   "metadata": {},
   "outputs": [],
   "source": [
    "# Imports\n",
    "import numpy as np"
   ]
  },
  {
   "cell_type": "code",
   "execution_count": 2,
   "metadata": {},
   "outputs": [],
   "source": [
    "# Hyperparameters\n",
    "n_samples = 200\n",
    "d = 40000\n",
    "rho = 30\n",
    "eta = 0.05"
   ]
  },
  {
   "cell_type": "code",
   "execution_count": 3,
   "metadata": {},
   "outputs": [],
   "source": [
    "# Generate data function\n",
    "def generate_data(n_samples=n_samples, d=d, rho=rho, eta=eta):\n",
    "    \"\"\"\n",
    "    Parameters:\n",
    "    - n_samples: Number of data points to generate.\n",
    "    - d: Dimensionality of the feature space.\n",
    "    - rho: Norm of the signal vectors (mu1 and mu2).\n",
    "    - eta: Label-flipping probability (default: 0.0).\n",
    "\n",
    "    Returns:\n",
    "    - X: Generated data points, shape (n_samples, 2, d).\n",
    "    - y: Labels, shape (n_samples,).\n",
    "    - clean_1: non-flipped indices for which u = mu1\n",
    "    - clean_2: non-flipped indices for which u = mu2\n",
    "    - noisy_1: flipped indices for which u = mu1\n",
    "    - noisy_2: flipped indices for which u = mu2\n",
    "    \"\"\"\n",
    "\n",
    "    # Generate orthogonal signal vectors mu1 and mu2\n",
    "\n",
    "    # mu1\n",
    "    mu1 = np.random.randn(d)\n",
    "    mu1 = mu1 / np.linalg.norm(mu1) * rho # Ensure norm of mu1 is rho\n",
    "\n",
    "\n",
    "    # mu2\n",
    "    mu2 = np.random.randn(d)\n",
    "    mu2 -= mu2 @ mu1 / (np.linalg.norm(mu1)**2) * mu1 # Ensure mu2 is orthogonal to mu1 by removing projection on mu1\n",
    "    mu2 = mu2 / np.linalg.norm(mu2) * rho # Ensure norm of mu2 is rho\n",
    "\n",
    "\n",
    "    # Generate dataset\n",
    "    X = np.zeros((n_samples, 2, d))\n",
    "    y = np.random.choice([+1, -1], size=n_samples) # Uniform label distribution\n",
    "\n",
    "    # Clean indices\n",
    "    clean = []\n",
    "\n",
    "    # Noisy indices\n",
    "    noisy = []\n",
    "\n",
    "    for i in range(n_samples):\n",
    "        # Generate signal component u based on label\n",
    "        u = mu1 if y[i] == +1 else mu2\n",
    "\n",
    "        # Generate noise component ksi\n",
    "        covariance_matrix = np.eye(d) - (np.outer(mu1, mu1) + np.outer(mu2, mu2)) / (rho**2)\n",
    "        noise = np.random.multivariate_normal(mean=np.zeros(d), cov=covariance_matrix)\n",
    "\n",
    "        # Assign u to x(1) and ksi to x(2)\n",
    "        X[i, 0, :] = u\n",
    "        X[i, 1, :] = noise\n",
    "\n",
    "        # Apply label flipping with probability eta\n",
    "        if np.random.rand() < eta:\n",
    "            y[i] = -y[i]\n",
    "            # add index to the noisy list\n",
    "            noisy.append(i)\n",
    "\n",
    "        else :\n",
    "            # add index to the clean list\n",
    "            clean.append(i)\n",
    "\n",
    "        clean_1 = [i for i in clean if X[i, 0, :] == mu1]\n",
    "        clean_2 = [i for i in clean if X[i, 0, :] == mu2]\n",
    "\n",
    "        noisy_1 = [i for i in clean if X[i, 0, :] == mu1]\n",
    "        noisy_2 = [i for i in clean if X[i, 0, :] == mu2]\n",
    "\n",
    "    return X, y, clean_1, clean_2, noisy_1, noisy_2"
   ]
  }
 ],
 "metadata": {
  "kernelspec": {
   "display_name": "Python 3",
   "language": "python",
   "name": "python3"
  },
  "language_info": {
   "codemirror_mode": {
    "name": "ipython",
    "version": 3
   },
   "file_extension": ".py",
   "mimetype": "text/x-python",
   "name": "python",
   "nbconvert_exporter": "python",
   "pygments_lexer": "ipython3",
   "version": "3.9.6"
  }
 },
 "nbformat": 4,
 "nbformat_minor": 2
}
