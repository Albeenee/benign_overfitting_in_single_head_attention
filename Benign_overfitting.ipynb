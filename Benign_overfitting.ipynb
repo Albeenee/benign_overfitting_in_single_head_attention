{
 "cells": [
  {
   "cell_type": "markdown",
   "metadata": {},
   "source": [
    "# Data generation\n"
   ]
  },
  {
   "cell_type": "code",
   "execution_count": 9,
   "metadata": {},
   "outputs": [],
   "source": [
    "import numpy as np\n",
    "\n",
    "def generate_data(n, d, rho, eta, seed=0):\n",
    "    rng = np.random.default_rng(seed)\n",
    "    \n",
    "    # Construction of mu_1 and mu_2\n",
    "    v1 = rng.normal(size=d)\n",
    "    v1 /= np.linalg.norm(v1) # normalize\n",
    "\n",
    "    v2 = rng.normal(size=d)\n",
    "    v2 -= (v2 @ v1) * v1 # remove projection of mu_2 onto mu1 to ensure orthogonality\n",
    "    v2 /= np.linalg.norm(v2) # normalize\n",
    "\n",
    "    mu_1 = rho * v1\n",
    "    mu_2 = rho * v2\n",
    "\n",
    "    # Covariance matrix\n",
    "    I_d = np.eye(d)\n",
    "    Sigma = I_d - (np.outer(mu_1, mu_1) + np.outer(mu_2, mu_2)) / (rho**2)\n",
    "\n",
    "    # Generate labels\n",
    "    y = rng.choice([+1, -1], size=n)\n",
    "\n",
    "    # Generate noise and signal\n",
    "    noise = rng.multivariate_normal(mean=np.zeros(d), cov=Sigma, size=n)\n",
    "    \n",
    "    # mu_1 if y = +1, mu_2 if y = -1\n",
    "    signals = np.where(y[:, None] == 1, mu_1, mu_2)\n",
    "\n",
    "    # Assign to tokens\n",
    "    X = np.empty((n, 2, d), dtype=float)\n",
    "    token_choices = rng.integers(low=0, high=2, size=n)\n",
    "    X[np.arange(n), token_choices, :] = signals\n",
    "    X[np.arange(n), 1 - token_choices, :] = noise\n",
    "\n",
    "    # Flip labels with probability eta\n",
    "    rng_flip = np.random.default_rng(seed + 1)\n",
    "    flip_mask = rng_flip.random(n) < eta\n",
    "    y_flipped = y.copy()\n",
    "    y_flipped[flip_mask] = -y_flipped[flip_mask]\n",
    "\n",
    "    # Indices\n",
    "    clean_indices = np.where(~flip_mask)[0]\n",
    "    noisy_indices = np.where(flip_mask)[0]\n",
    "\n",
    "    return X, y_flipped, clean_indices, noisy_indices\n"
   ]
  },
  {
   "cell_type": "markdown",
   "metadata": {},
   "source": [
    "# Single head attention\n"
   ]
  },
  {
   "cell_type": "code",
   "execution_count": 2,
   "metadata": {},
   "outputs": [],
   "source": [
    "import torch\n",
    "import torch.nn as nn\n",
    "import torch.nn.functional as F\n",
    "\n",
    "range = 0.01\n",
    "\n",
    "class SingleHeadAttention(nn.Module):\n",
    "    \"\"\"\n",
    "    Implements f(X; p, v) = v^T X^T softmax(X p),\n",
    "    where X is (batch_size, 2, d),\n",
    "          p, v are (d,).\n",
    "    \"\"\"\n",
    "    def __init__(self, d):\n",
    "        super().__init__()\n",
    "        # Initialization of p and v\n",
    "        self.p = nn.Parameter(torch.randn(d) * range)\n",
    "        self.v = nn.Parameter(torch.randn(d) * range)\n",
    "\n",
    "    def forward(self, X):\n",
    "        # Compute the raw \"logits\" for attention: X p\n",
    "        logits = X @ self.p  # (batch_size, 2, d) @ (d,) -> (batch_size, 2)\n",
    "        \n",
    "        # Apply softmax across the two tokens (dim=1)\n",
    "        attn_weights = F.softmax(logits, dim=1) #(batch_size, 2)\n",
    "        \n",
    "        # Compute the weighted sum of the 2 tokens:\n",
    "        weighted_sum = (attn_weights.unsqueeze(-1) * X).sum(dim=1) # (batch_size, d)\n",
    "        \n",
    "        # Dot product with v for each sample\n",
    "        output = (weighted_sum * self.v).sum(dim=1) # (batch_size,)\n",
    "\n",
    "        return output\n",
    "\n"
   ]
  },
  {
   "cell_type": "markdown",
   "metadata": {},
   "source": [
    "# Plot function"
   ]
  },
  {
   "cell_type": "code",
   "execution_count": 11,
   "metadata": {},
   "outputs": [],
   "source": [
    "import matplotlib.pyplot as plt\n",
    "\n",
    "def plot_metrics(train_acc, test_acc, clean_probs, noisy_probs):\n",
    "    \"\"\"\n",
    "    Plot the metrics during training: train/test accuracies and softmax probabilities.\n",
    "    \n",
    "    Parameters:\n",
    "    - train_acc: List of train accuracies.\n",
    "    - test_acc: List of test accuracies.\n",
    "    - clean_probs: List of softmax probabilities for clean samples.\n",
    "    - noisy_probs: List of softmax probabilities for noisy samples.\n",
    "    \"\"\"\n",
    "    # Plot Train and Test Accuracy\n",
    "    plt.figure(figsize=(12, 5))\n",
    "\n",
    "    plt.subplot(1, 2, 1)\n",
    "    plt.plot(range(len(train_acc)), train_acc, label='Train Accuracy')\n",
    "    plt.plot(range(len(test_acc)), test_acc, label='Test Accuracy')\n",
    "    plt.xlabel('Iteration')\n",
    "    plt.ylabel('Accuracy')\n",
    "    plt.title('Train and Test Accuracy during Training')\n",
    "    plt.legend()\n",
    "\n",
    "    # Plot Softmax Probabilities for Clean and Noisy Samples\n",
    "    plt.subplot(1, 2, 2)\n",
    "    plt.plot(range(len(clean_probs)), clean_probs, label='Clean Sample Probabilities')\n",
    "    plt.plot(range(len(noisy_probs)), noisy_probs, label='Noisy Sample Probabilities')\n",
    "    plt.xlabel('Iteration')\n",
    "    plt.ylabel('Softmax Probability')\n",
    "    plt.title('Softmax Probability of Signal Token')\n",
    "    plt.legend()\n",
    "\n",
    "    plt.tight_layout()\n",
    "    plt.show()"
   ]
  },
  {
   "cell_type": "code",
   "execution_count": 5,
   "metadata": {},
   "outputs": [
    {
     "name": "stdout",
     "output_type": "stream",
     "text": [
      "Using device: mps\n"
     ]
    }
   ],
   "source": [
    "if torch.backends.mps.is_available():\n",
    "    device = torch.device(\"mps\")\n",
    "else:\n",
    "        device = torch.device(\"cpu\")\n",
    "print(\"Using device:\", device)"
   ]
  },
  {
   "cell_type": "code",
   "execution_count": 22,
   "metadata": {},
   "outputs": [],
   "source": [
    "# Parameters\n",
    "batch_size = 50\n",
    "n_train    = 40\n",
    "n_test     = 40\n",
    "d          = 6000\n",
    "rho        = 5.0\n",
    "eta        = 0.1\n",
    "beta       = 0.025  "
   ]
  },
  {
   "cell_type": "code",
   "execution_count": null,
   "metadata": {},
   "outputs": [
    {
     "data": {
      "text/plain": [
       "torch.Size([37, 2, 6000])"
      ]
     },
     "execution_count": 15,
     "metadata": {},
     "output_type": "execute_result"
    }
   ],
   "source": [
    "X_train_np, y_train_np, clean_indices_train, noisy_indices_train = generate_data(n_train, d, rho, eta= 0.1)\n",
    "X_test_np,  y_test_np, clean_indices_test, noisy_indices_test = generate_data(n_test, d, rho, eta= 0.1)\n",
    "\n",
    "\n",
    "X_train = torch.tensor(X_train_np, dtype=torch.float32, device=device)\n",
    "y_train = torch.tensor(y_train_np, dtype=torch.float32, device=device)\n",
    "X_test = torch.tensor(X_test_np, dtype=torch.float32, device=device)\n",
    "y_test = torch.tensor(y_test_np, dtype=torch.float32, device=device)\n",
    "\n",
    "\n",
    "X_train[clean_indices_train].shape"
   ]
  },
  {
   "cell_type": "markdown",
   "metadata": {},
   "source": [
    "# Gradient Descent"
   ]
  },
  {
   "cell_type": "markdown",
   "metadata": {},
   "source": [
    "### Metrics and loss"
   ]
  },
  {
   "cell_type": "code",
   "execution_count": 19,
   "metadata": {},
   "outputs": [],
   "source": [
    "def logistic_loss_fn(logits, labels):\n",
    "    \"\"\"\n",
    "    Compute average logistic loss for binary classification w/ labels in {+1,-1}.\n",
    "    Logistic loss = mean[ log(1 + exp(-y * z)) ]\n",
    "      - logits = z\n",
    "      - labels = y in {+1, -1}\n",
    "    \"\"\"\n",
    "    return torch.mean(torch.log(1.0 + torch.exp(-labels * logits)))\n",
    "\n",
    "\n",
    "def accuracy_score(logits, labels):\n",
    "    \"\"\"\n",
    "    Classification accuracy when thresholding logits at 0, \n",
    "    with labels in {+1, -1}.\n",
    "    \"\"\"\n",
    "    preds = torch.sign(logits)  # get +1 or -1\n",
    "    correct = (preds == labels).sum().item()\n",
    "    return correct / len(labels)"
   ]
  },
  {
   "cell_type": "markdown",
   "metadata": {},
   "source": [
    "### Training"
   ]
  },
  {
   "cell_type": "code",
   "execution_count": 21,
   "metadata": {},
   "outputs": [],
   "source": [
    "# Model and Optimizer\n",
    "model = SingleHeadAttention(d).to(device)\n",
    "optimizer = torch.optim.SGD(model.parameters(), lr=beta)\n",
    "\n",
    "# Initialize lists\n",
    "train_accs = []\n",
    "test_accs  = []\n",
    "steps_list = []\n",
    "\n",
    "clean_proba = []\n",
    "noisy_proba = []\n",
    "\n",
    "# Parameters\n",
    "num_steps = 150\n",
    "cur_step = 0\n",
    "log_every = 50"
   ]
  },
  {
   "cell_type": "code",
   "execution_count": 16,
   "metadata": {},
   "outputs": [
    {
     "name": "stdout",
     "output_type": "stream",
     "text": [
      "Epoch 1\n",
      "Epoch 50\n",
      "Epoch 100\n",
      "Epoch 150\n"
     ]
    },
    {
     "data": {
      "image/png": "[encoded data removed]",
      "text/plain": [
       "<Figure size 1200x500 with 2 Axes>"
      ]
     },
     "metadata": {},
     "output_type": "display_data"
    }
   ],
   "source": [
    "for epoch in range(num_steps):\n",
    "    pred = model(X_train)\n",
    "    loss = logistic_loss_fn(pred, y_train)\n",
    "\n",
    "    # Backprop\n",
    "    #optimizer.zero_grad()\n",
    "    model.zero_grad()\n",
    "    with torch.no_grad():\n",
    "        # Predictions on the training set\n",
    "        pred = model(X_train)\n",
    "        train_acc = accuracy_score(pred, y_train)\n",
    "\n",
    "        # Predictions on the test set\n",
    "        logits_test = model(X_test)\n",
    "        test_acc = accuracy_score(logits_test, y_test)\n",
    "        \n",
    "        logits_clean = torch.matmul(X_train[clean_indices_train], model.p)  # Adjust to model.p shape\n",
    "        probs_clean = F.softmax(logits_clean, dim=1)[:, 0].cpu().numpy()\n",
    "        clean_probs_iter = np.mean(probs_clean)\n",
    "\n",
    "        logits_noisy = torch.matmul(X_train[noisy_indices_train], model.p)  # Adjust to model.p shape\n",
    "        probs_noisy = F.softmax(logits_noisy, dim=1)[:, 0].cpu().numpy()\n",
    "        noisy_probs_iter = np.mean(probs_noisy)\n",
    "\n",
    "\n",
    "        # clean_probs_iter = np.mean(F.softmax(np.dot((X_train[clean_indices_train], model.p).cpu()))[:, 0])\n",
    "        # noisy_probs_iter = np.mean(F.softmax(np.dot((X_train[noisy_indices_train], model.p).cpu()))[:, 0])\n",
    "\n",
    "\n",
    "    train_accs.append(train_acc)\n",
    "    test_accs.append(test_acc)\n",
    "    steps_list.append(cur_step)\n",
    "    clean_proba.append(clean_probs_iter)\n",
    "    noisy_proba.append(noisy_probs_iter)\n",
    "\n",
    "\n",
    "    loss.backward()\n",
    "    #optimizer.step()\n",
    "    \n",
    "    with torch.no_grad():\n",
    "        for param in model.parameters():\n",
    "            param -= beta * param.grad\n",
    "        \n",
    "    # Logging tous les epochs\n",
    "    cur_step += 1\n",
    "    if (epoch==0) or (epoch+1)%log_every==0 or (epoch+1 == num_steps):\n",
    "        print(f\"Epoch {epoch+1}\")\n",
    "\n",
    "\n",
    "plot_metrics(train_accs, test_accs, clean_proba, noisy_proba)\n"
   ]
  },
  {
   "cell_type": "markdown",
   "metadata": {},
   "source": [
    "# Max-Margin Solution"
   ]
  },
  {
   "cell_type": "code",
   "execution_count": null,
   "metadata": {},
   "outputs": [],
   "source": []
  }
 ],
 "metadata": {
  "kernelspec": {
   "display_name": "Python 3",
   "language": "python",
   "name": "python3"
  },
  "language_info": {
   "codemirror_mode": {
    "name": "ipython",
    "version": 3
   },
   "file_extension": ".py",
   "mimetype": "text/x-python",
   "name": "python",
   "nbconvert_exporter": "python",
   "pygments_lexer": "ipython3",
   "version": "3.9.6"
  }
 },
 "nbformat": 4,
 "nbformat_minor": 2
}
